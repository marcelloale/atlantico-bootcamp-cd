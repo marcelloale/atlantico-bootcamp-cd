{
 "cells": [
  {
   "cell_type": "markdown",
   "id": "b4dd6efe-b52a-4d16-a29b-44aa9ef47155",
   "metadata": {},
   "source": [
    "# Análise exploratória de dados\n",
    "Dados: https://www.kaggle.com/datasets/parulpandey/forbes-highest-paid-athletes-19902019\n",
    "## Forbes Highest Paid Athletes 1990-2020\n",
    "Lista completa dos atletas mais bem pagos do mundo desde a primeira lista publicada pela Forbes em 1990. Em 2002, alteraram o período abrangido pelo relatório, de ano civil completo para Junho-Junho, e consequentemente, não existem registos para 2001."
   ]
  },
  {
   "cell_type": "markdown",
   "id": "dbaf3fcb-05b4-4846-b5db-3da96e3c4f01",
   "metadata": {},
   "source": [
    "### Importação das libs"
   ]
  },
  {
   "cell_type": "code",
   "execution_count": 11,
   "id": "fb86a56e-c8ff-4ae9-897d-b1feadbccab3",
   "metadata": {},
   "outputs": [],
   "source": [
    "import numpy as np\n",
    "import pandas as pd\n",
    "import matplotlib.pyplot as plt\n",
    "import seaborn as sns\n"
   ]
  },
  {
   "cell_type": "markdown",
   "id": "38a1518f-74cc-428f-9288-d87125be4b2b",
   "metadata": {},
   "source": [
    "### Carregamento de dados"
   ]
  },
  {
   "cell_type": "code",
   "execution_count": 10,
   "id": "f91930bf-aecd-458f-a1e9-2ddfc205dfa4",
   "metadata": {},
   "outputs": [
    {
     "data": {
      "text/html": [
       "<div>\n",
       "<style scoped>\n",
       "    .dataframe tbody tr th:only-of-type {\n",
       "        vertical-align: middle;\n",
       "    }\n",
       "\n",
       "    .dataframe tbody tr th {\n",
       "        vertical-align: top;\n",
       "    }\n",
       "\n",
       "    .dataframe thead th {\n",
       "        text-align: right;\n",
       "    }\n",
       "</style>\n",
       "<table border=\"1\" class=\"dataframe\">\n",
       "  <thead>\n",
       "    <tr style=\"text-align: right;\">\n",
       "      <th></th>\n",
       "      <th>S.NO</th>\n",
       "      <th>Name</th>\n",
       "      <th>Nationality</th>\n",
       "      <th>Current Rank</th>\n",
       "      <th>Previous Year Rank</th>\n",
       "      <th>Sport</th>\n",
       "      <th>Year</th>\n",
       "      <th>earnings ($ million)</th>\n",
       "    </tr>\n",
       "  </thead>\n",
       "  <tbody>\n",
       "    <tr>\n",
       "      <th>0</th>\n",
       "      <td>1</td>\n",
       "      <td>Mike Tyson</td>\n",
       "      <td>USA</td>\n",
       "      <td>1</td>\n",
       "      <td>NaN</td>\n",
       "      <td>boxing</td>\n",
       "      <td>1990</td>\n",
       "      <td>28.6</td>\n",
       "    </tr>\n",
       "    <tr>\n",
       "      <th>1</th>\n",
       "      <td>2</td>\n",
       "      <td>Buster Douglas</td>\n",
       "      <td>USA</td>\n",
       "      <td>2</td>\n",
       "      <td>NaN</td>\n",
       "      <td>boxing</td>\n",
       "      <td>1990</td>\n",
       "      <td>26.0</td>\n",
       "    </tr>\n",
       "    <tr>\n",
       "      <th>2</th>\n",
       "      <td>3</td>\n",
       "      <td>Sugar Ray Leonard</td>\n",
       "      <td>USA</td>\n",
       "      <td>3</td>\n",
       "      <td>NaN</td>\n",
       "      <td>boxing</td>\n",
       "      <td>1990</td>\n",
       "      <td>13.0</td>\n",
       "    </tr>\n",
       "    <tr>\n",
       "      <th>3</th>\n",
       "      <td>4</td>\n",
       "      <td>Ayrton Senna</td>\n",
       "      <td>Brazil</td>\n",
       "      <td>4</td>\n",
       "      <td>NaN</td>\n",
       "      <td>auto racing</td>\n",
       "      <td>1990</td>\n",
       "      <td>10.0</td>\n",
       "    </tr>\n",
       "    <tr>\n",
       "      <th>4</th>\n",
       "      <td>5</td>\n",
       "      <td>Alain Prost</td>\n",
       "      <td>France</td>\n",
       "      <td>5</td>\n",
       "      <td>NaN</td>\n",
       "      <td>auto racing</td>\n",
       "      <td>1990</td>\n",
       "      <td>9.0</td>\n",
       "    </tr>\n",
       "  </tbody>\n",
       "</table>\n",
       "</div>"
      ],
      "text/plain": [
       "   S.NO               Name Nationality  Current Rank Previous Year Rank  \\\n",
       "0     1         Mike Tyson         USA             1                NaN   \n",
       "1     2     Buster Douglas         USA             2                NaN   \n",
       "2     3  Sugar Ray Leonard         USA             3                NaN   \n",
       "3     4       Ayrton Senna      Brazil             4                NaN   \n",
       "4     5        Alain Prost      France             5                NaN   \n",
       "\n",
       "         Sport  Year  earnings ($ million)  \n",
       "0       boxing  1990                  28.6  \n",
       "1       boxing  1990                  26.0  \n",
       "2       boxing  1990                  13.0  \n",
       "3  auto racing  1990                  10.0  \n",
       "4  auto racing  1990                   9.0  "
      ]
     },
     "execution_count": 10,
     "metadata": {},
     "output_type": "execute_result"
    }
   ],
   "source": [
    "dt = pd.read_csv('../../data/raw/datarich.csv')\n",
    "dt.head()"
   ]
  },
  {
   "cell_type": "markdown",
   "id": "659d43dd-53a3-4c8b-be8b-a614d9a2016c",
   "metadata": {},
   "source": [
    "## 1. Descrição dos dados"
   ]
  },
  {
   "cell_type": "code",
   "execution_count": 16,
   "id": "ded525f7-aa8d-499b-95a8-0dbce1a7da93",
   "metadata": {},
   "outputs": [
    {
     "name": "stdout",
     "output_type": "stream",
     "text": [
      "<class 'pandas.core.frame.DataFrame'>\n",
      "RangeIndex: 301 entries, 0 to 300\n",
      "Data columns (total 8 columns):\n",
      " #   Column                Non-Null Count  Dtype  \n",
      "---  ------                --------------  -----  \n",
      " 0   S.NO                  301 non-null    int64  \n",
      " 1   Name                  301 non-null    object \n",
      " 2   Nationality           301 non-null    object \n",
      " 3   Current Rank          301 non-null    int64  \n",
      " 4   Previous Year Rank    277 non-null    object \n",
      " 5   Sport                 301 non-null    object \n",
      " 6   Year                  301 non-null    int64  \n",
      " 7   earnings ($ million)  301 non-null    float64\n",
      "dtypes: float64(1), int64(3), object(4)\n",
      "memory usage: 18.9+ KB\n"
     ]
    }
   ],
   "source": [
    "#Informações basicas\n",
    "dt.info()"
   ]
  },
  {
   "cell_type": "code",
   "execution_count": 36,
   "id": "7835247d-b932-40d8-8059-7a547432f3a0",
   "metadata": {},
   "outputs": [
    {
     "data": {
      "text/html": [
       "<div>\n",
       "<style scoped>\n",
       "    .dataframe tbody tr th:only-of-type {\n",
       "        vertical-align: middle;\n",
       "    }\n",
       "\n",
       "    .dataframe tbody tr th {\n",
       "        vertical-align: top;\n",
       "    }\n",
       "\n",
       "    .dataframe thead th {\n",
       "        text-align: right;\n",
       "    }\n",
       "</style>\n",
       "<table border=\"1\" class=\"dataframe\">\n",
       "  <thead>\n",
       "    <tr style=\"text-align: right;\">\n",
       "      <th></th>\n",
       "      <th>Variaveis</th>\n",
       "      <th>Significado</th>\n",
       "      <th>Tipo</th>\n",
       "    </tr>\n",
       "  </thead>\n",
       "  <tbody>\n",
       "    <tr>\n",
       "      <th>0</th>\n",
       "      <td>S.NO</td>\n",
       "      <td>Números de série</td>\n",
       "      <td>Continuo</td>\n",
       "    </tr>\n",
       "    <tr>\n",
       "      <th>1</th>\n",
       "      <td>Name</td>\n",
       "      <td>Nome</td>\n",
       "      <td>Nominal</td>\n",
       "    </tr>\n",
       "    <tr>\n",
       "      <th>2</th>\n",
       "      <td>Nationality</td>\n",
       "      <td>Nacionalidade</td>\n",
       "      <td>Nominal</td>\n",
       "    </tr>\n",
       "    <tr>\n",
       "      <th>3</th>\n",
       "      <td>Current Rank</td>\n",
       "      <td>Rank Atual</td>\n",
       "      <td>Ordinal</td>\n",
       "    </tr>\n",
       "    <tr>\n",
       "      <th>4</th>\n",
       "      <td>Previous Year Rank</td>\n",
       "      <td>Rank Anterior</td>\n",
       "      <td>Ordinal</td>\n",
       "    </tr>\n",
       "    <tr>\n",
       "      <th>5</th>\n",
       "      <td>Sport</td>\n",
       "      <td>Esporte</td>\n",
       "      <td>Nominal</td>\n",
       "    </tr>\n",
       "    <tr>\n",
       "      <th>6</th>\n",
       "      <td>Year</td>\n",
       "      <td>Ano</td>\n",
       "      <td>Continuo</td>\n",
       "    </tr>\n",
       "    <tr>\n",
       "      <th>7</th>\n",
       "      <td>earnings ($ million)</td>\n",
       "      <td>Ganhos ($ milhões)</td>\n",
       "      <td>Continuo</td>\n",
       "    </tr>\n",
       "  </tbody>\n",
       "</table>\n",
       "</div>"
      ],
      "text/plain": [
       "              Variaveis         Significado      Tipo\n",
       "0                  S.NO    Números de série  Continuo\n",
       "1                  Name                Nome   Nominal\n",
       "2           Nationality       Nacionalidade   Nominal\n",
       "3          Current Rank          Rank Atual   Ordinal\n",
       "4    Previous Year Rank       Rank Anterior   Ordinal\n",
       "5                 Sport             Esporte   Nominal\n",
       "6                  Year                 Ano  Continuo\n",
       "7  earnings ($ million)  Ganhos ($ milhões)  Continuo"
      ]
     },
     "execution_count": 36,
     "metadata": {},
     "output_type": "execute_result"
    }
   ],
   "source": [
    "#variáveis e seus tipos\n",
    "dicionario = dt.columns.to_frame(name=\"Variaveis\").reset_index(drop=True)\n",
    "dicionario[\"Significado\"] = [\n",
    "    \"Serial Numbers\",\n",
    "    \"Nome\",\n",
    "    \"Nacionalidade\",\n",
    "    \"Rank Atual\",\n",
    "    \"Rank previsão\",\n",
    "    \"Esporte\",\n",
    "    \"Ano\",\n",
    "    \"Ganhos ($ milhões)\"]\n",
    "dicionario[\"Significado\"] = [\n",
    "    \"Números de série\",\n",
    "    \"Nome\",\n",
    "    \"Nacionalidade\",\n",
    "    \"Rank Atual\",\n",
    "    \"Rank Anterior\",\n",
    "    \"Esporte\",\n",
    "    \"Ano\",\n",
    "    \"Ganhos ($ milhões)\"]\n",
    "#Tipos em Quantitativos e Qualitativos\n",
    "dicionario[\"Tipo\"] = [ \n",
    "    \"Continuo\",\n",
    "    \"Nominal\",\n",
    "    \"Nominal\",\n",
    "    \"Ordinal\",\n",
    "    \"Ordinal\",\n",
    "    \"Nominal\",\n",
    "    \"Continuo\",\n",
    "    \"Continuo\"]\n",
    "dicionario"
   ]
  },
  {
   "cell_type": "code",
   "execution_count": 20,
   "id": "7312418e-33ee-4b6a-8cf2-dd575cf20e92",
   "metadata": {},
   "outputs": [
    {
     "name": "stdout",
     "output_type": "stream",
     "text": [
      "O data frame possui  301  linhas e  8  colunas.\n"
     ]
    }
   ],
   "source": [
    "#Quantas linhas e colunas?\n",
    "linhas = dt.shape[0]\n",
    "colunas = dt.shape[1]\n",
    "print(\"O data frame possui \",linhas,\" linhas e \",colunas,\" colunas.\")"
   ]
  },
  {
   "cell_type": "code",
   "execution_count": 24,
   "id": "a040c3f9-ef2f-4f17-80cd-1e726a1e52b3",
   "metadata": {},
   "outputs": [
    {
     "name": "stdout",
     "output_type": "stream",
     "text": [
      "A quantidade total de nulos no data frame é: 24\n"
     ]
    }
   ],
   "source": [
    "#Quantidade de valores faltantes?\n",
    "nulos = dt.isnull().sum().sum()\n",
    "print(\"A quantidade total de nulos no data frame é:\",nulos)"
   ]
  },
  {
   "cell_type": "markdown",
   "id": "a1fec794-b066-4380-bf83-24dca9b11369",
   "metadata": {},
   "source": [
    "## 2. Perguntas de partida e hipóteses"
   ]
  },
  {
   "cell_type": "markdown",
   "id": "ef860d34-9893-49c0-9b67-8ec88cd78bef",
   "metadata": {},
   "source": [
    "1. Quais os dez atletas mais bem pago durante 1990 a 2020?\n",
    "2. Qual pais(nacionalidade) que tem mais atletas mais bem pagos?\n",
    "3. Quais os atletas brasileiros mais bem pagos?\n",
    "4. Quais os top 1 de cada ano?\n",
    "5. Quais atletas apareceram mais vezes no top 1?\n",
    "6. Qual atleta ficou mais anos consecutivos no top 1?\n",
    "7. Qual o menor valor ganho do data frame?\n",
    "8. Qual o maior valor ganho de um atleta top 1?\n",
    "9. Qual esporte tem mais atletas em 1990?\n",
    "10. Qual esporte tem mais atletas em 2020?"
   ]
  },
  {
   "cell_type": "markdown",
   "id": "aaba367a-e02e-49dd-89ea-9142e63a1b1b",
   "metadata": {},
   "source": [
    "## 3. Insights"
   ]
  },
  {
   "cell_type": "code",
   "execution_count": null,
   "id": "c43604b6-2fdb-47ad-9cf0-0b3fa4d55075",
   "metadata": {},
   "outputs": [],
   "source": []
  }
 ],
 "metadata": {
  "kernelspec": {
   "display_name": "Python 3 (ipykernel)",
   "language": "python",
   "name": "python3"
  },
  "language_info": {
   "codemirror_mode": {
    "name": "ipython",
    "version": 3
   },
   "file_extension": ".py",
   "mimetype": "text/x-python",
   "name": "python",
   "nbconvert_exporter": "python",
   "pygments_lexer": "ipython3",
   "version": "3.8.10"
  }
 },
 "nbformat": 4,
 "nbformat_minor": 5
}
