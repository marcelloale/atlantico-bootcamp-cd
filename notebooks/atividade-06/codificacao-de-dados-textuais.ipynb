{
 "cells": [
  {
   "cell_type": "markdown",
   "id": "531a0d4f-1ef4-4244-a011-8d3901004a8f",
   "metadata": {},
   "source": [
    "## Explicação: "
   ]
  },
  {
   "cell_type": "markdown",
   "id": "bc6ba305-38bd-4672-9209-c7f140c4a785",
   "metadata": {},
   "source": [
    "As maquinas não podem processar dados de textos em formato bruto, sendo necessario um processo para decompor o texto em um formato numerico que a maquina consiga ler facilmente(processamento de linguagem natural)."
   ]
  },
  {
   "cell_type": "markdown",
   "id": "9fc0303c-98e6-45a0-8d50-98a410d1b194",
   "metadata": {},
   "source": [
    "- bag-of-words: um dos metodos de pre-processamento de texto mais conhecidos é o saco de palavras, ele vetoriza uma frase ou um texto e essa incrustação de palavras é um formas mais simples de representar um texto em numeros\n",
    "    1. Criar um indice do vocabulario de palavras do texto.\n",
    "    2. Construir um vetor numerico para o texto que represente a frequencia com que palavra aparece no texto."
   ]
  },
  {
   "cell_type": "markdown",
   "id": "b8d698b7-37d1-49be-8f70-ec46862a4b2b",
   "metadata": {},
   "source": [
    "- tf-idf: A frequencia dos termos - a frequencia inversa de documentos, é uma estatistica numerica que tenta refletir a importancia de uma palavra para um documento em um coleção ou corpus. \n",
    "- TF(frequencia do terno) é uma medida de quantas vezes um termo aparece em um documento. O peso de um termo que ocorre em um documento é diretamente propocional a sua frequencia.\n",
    "- IDF(inverso da frequencia nos documentos) é a medida da importancia de um termo. A especificidade de um termo pode ser quantifficada por um função inversa do numero de documentos em que ele ocorre."
   ]
  },
  {
   "cell_type": "markdown",
   "id": "f228b7c4-3474-4e28-841f-4cd8fa656ca9",
   "metadata": {},
   "source": [
    "## Prática:"
   ]
  },
  {
   "cell_type": "markdown",
   "id": "74508e2e-67c6-443a-bbde-7f5c5f1d5a21",
   "metadata": {},
   "source": [
    "#### Carregando bibliotecas"
   ]
  },
  {
   "cell_type": "code",
   "execution_count": 109,
   "id": "d36504c0-f71c-4983-a8a8-01ae29bb6ccc",
   "metadata": {},
   "outputs": [],
   "source": [
    "import pandas as pd\n",
    "import seaborn as sns\n",
    "from matplotlib import pyplot as plt\n",
    "import numpy as np\n",
    "from IPython.display import Markdown\n",
    "from sklearn.datasets import load_digits\n",
    "from sklearn.feature_extraction.text import CountVectorizer , TfidfTransformer"
   ]
  },
  {
   "cell_type": "markdown",
   "id": "1e7c5937-d69d-4db5-982a-21705618577e",
   "metadata": {},
   "source": [
    "1. bag-of-words: gerando vocabulario"
   ]
  },
  {
   "cell_type": "code",
   "execution_count": 121,
   "id": "c0bc3e56-9362-4c69-9741-60c60a083197",
   "metadata": {},
   "outputs": [],
   "source": [
    "frases = [\n",
    "    \"John likes\",\n",
    "    \"likes to\",\n",
    "    \"to watch\",\n",
    "    \"watch movies\",\n",
    "    \"Mary likes\",\n",
    "    \"likes movies\",\n",
    "    \"movies too\",\n",
    "]"
   ]
  },
  {
   "cell_type": "code",
   "execution_count": 60,
   "id": "c5d5644f-f482-497b-81ac-55bca5e8e11e",
   "metadata": {},
   "outputs": [
    {
     "name": "stdout",
     "output_type": "stream",
     "text": [
      "['john' 'likes' 'mary' 'movies' 'to' 'too' 'watch']\n",
      "{'john': 0, 'likes': 1, 'to': 4, 'watch': 6, 'movies': 3, 'mary': 2, 'too': 5}\n",
      "[[1 1 0 0 0 0 0]\n",
      " [0 1 0 0 1 0 0]\n",
      " [0 0 0 0 1 0 1]\n",
      " [0 0 0 1 0 0 1]\n",
      " [0 1 1 0 0 0 0]\n",
      " [0 1 0 1 0 0 0]\n",
      " [0 0 0 1 0 1 0]]\n"
     ]
    }
   ],
   "source": [
    "#vetor para contagem palavras da lista frases\n",
    "vetorizador = CountVectorizer()\n",
    "#colocar em saco de palavras\n",
    "bag = vetorizador.fit_transform(frases)\n",
    "#visualizar os tokens exclusivos\n",
    "print(vectorizer.get_feature_names_out())\n",
    "#indice de cada token\n",
    "print(vectorizer.vocabulary_)\n",
    "#codificação\n",
    "print(bag.toarray())"
   ]
  },
  {
   "cell_type": "markdown",
   "id": "d33d464b-1d4b-4559-9c8a-a0201981da71",
   "metadata": {},
   "source": [
    "2. tf-idf: na lista frases cada frase vai ser um documento entao teremos 7 docs"
   ]
  },
  {
   "cell_type": "code",
   "execution_count": 123,
   "id": "e77ebb2c-ff2c-4f6b-9e5d-a1bad394cb8b",
   "metadata": {},
   "outputs": [
    {
     "name": "stdout",
     "output_type": "stream",
     "text": [
      "Temos 7 docs e 7 palavras unicas\n"
     ]
    },
    {
     "data": {
      "text/html": [
       "<div>\n",
       "<style scoped>\n",
       "    .dataframe tbody tr th:only-of-type {\n",
       "        vertical-align: middle;\n",
       "    }\n",
       "\n",
       "    .dataframe tbody tr th {\n",
       "        vertical-align: top;\n",
       "    }\n",
       "\n",
       "    .dataframe thead th {\n",
       "        text-align: right;\n",
       "    }\n",
       "</style>\n",
       "<table border=\"1\" class=\"dataframe\">\n",
       "  <thead>\n",
       "    <tr style=\"text-align: right;\">\n",
       "      <th></th>\n",
       "      <th>idf_importancia</th>\n",
       "    </tr>\n",
       "  </thead>\n",
       "  <tbody>\n",
       "    <tr>\n",
       "      <th>likes</th>\n",
       "      <td>1.470004</td>\n",
       "    </tr>\n",
       "    <tr>\n",
       "      <th>movies</th>\n",
       "      <td>1.693147</td>\n",
       "    </tr>\n",
       "    <tr>\n",
       "      <th>to</th>\n",
       "      <td>1.980829</td>\n",
       "    </tr>\n",
       "    <tr>\n",
       "      <th>watch</th>\n",
       "      <td>1.980829</td>\n",
       "    </tr>\n",
       "    <tr>\n",
       "      <th>john</th>\n",
       "      <td>2.386294</td>\n",
       "    </tr>\n",
       "    <tr>\n",
       "      <th>mary</th>\n",
       "      <td>2.386294</td>\n",
       "    </tr>\n",
       "    <tr>\n",
       "      <th>too</th>\n",
       "      <td>2.386294</td>\n",
       "    </tr>\n",
       "  </tbody>\n",
       "</table>\n",
       "</div>"
      ],
      "text/plain": [
       "        idf_importancia\n",
       "likes          1.470004\n",
       "movies         1.693147\n",
       "to             1.980829\n",
       "watch          1.980829\n",
       "john           2.386294\n",
       "mary           2.386294\n",
       "too            2.386294"
      ]
     },
     "execution_count": 123,
     "metadata": {},
     "output_type": "execute_result"
    }
   ],
   "source": [
    "#vetor para contagem palavras da lista frases(frequencia do termo)\n",
    "#vetorizador = CountVectorizer() reutilizado de bags-of-words\n",
    "#conversao em matriz frequencia palavras\n",
    "contap = vetorizador.fit_transform(frases)\n",
    "# quantos docs e quantas palavras?\n",
    "print(\"Temos\",contap.shape[0],\"docs e\",contap.shape[1],\"palavras unicas\")\n",
    "\n",
    "# IDF importancia das palavras\n",
    "# calcular os valores de IDF para palavras\n",
    "tfidft = TfidfTransformer(smooth_idf=True,use_idf=True)\n",
    "tfidft.fit(contap)\n",
    "#tfidfp = tfidf.fit_transform(frases)\n",
    "# visualização do valores idf \n",
    "df_idf = pd.DataFrame(tfidft.idf_, index=vetorizador.get_feature_names_out(),columns=[\"idf_importancia\"]) \n",
    "# organiza por importancia ordem crescente quanto menor valor IDF menos exclusiva (aparece em quase todos os docs)\n",
    "df_idf.sort_values(by=['idf_importancia'])\n"
   ]
  },
  {
   "cell_type": "code",
   "execution_count": 138,
   "id": "36e98cdc-35ca-4591-9f4c-0a4488396e3a",
   "metadata": {},
   "outputs": [
    {
     "data": {
      "text/html": [
       "<div>\n",
       "<style scoped>\n",
       "    .dataframe tbody tr th:only-of-type {\n",
       "        vertical-align: middle;\n",
       "    }\n",
       "\n",
       "    .dataframe tbody tr th {\n",
       "        vertical-align: top;\n",
       "    }\n",
       "\n",
       "    .dataframe thead th {\n",
       "        text-align: right;\n",
       "    }\n",
       "</style>\n",
       "<table border=\"1\" class=\"dataframe\">\n",
       "  <thead>\n",
       "    <tr style=\"text-align: right;\">\n",
       "      <th></th>\n",
       "      <th>tf-idf</th>\n",
       "    </tr>\n",
       "  </thead>\n",
       "  <tbody>\n",
       "    <tr>\n",
       "      <th>john</th>\n",
       "      <td>0.851417</td>\n",
       "    </tr>\n",
       "    <tr>\n",
       "      <th>likes</th>\n",
       "      <td>0.524489</td>\n",
       "    </tr>\n",
       "    <tr>\n",
       "      <th>mary</th>\n",
       "      <td>0.000000</td>\n",
       "    </tr>\n",
       "    <tr>\n",
       "      <th>movies</th>\n",
       "      <td>0.000000</td>\n",
       "    </tr>\n",
       "    <tr>\n",
       "      <th>to</th>\n",
       "      <td>0.000000</td>\n",
       "    </tr>\n",
       "    <tr>\n",
       "      <th>too</th>\n",
       "      <td>0.000000</td>\n",
       "    </tr>\n",
       "    <tr>\n",
       "      <th>watch</th>\n",
       "      <td>0.000000</td>\n",
       "    </tr>\n",
       "  </tbody>\n",
       "</table>\n",
       "</div>"
      ],
      "text/plain": [
       "          tf-idf\n",
       "john    0.851417\n",
       "likes   0.524489\n",
       "mary    0.000000\n",
       "movies  0.000000\n",
       "to      0.000000\n",
       "too     0.000000\n",
       "watch   0.000000"
      ]
     },
     "execution_count": 138,
     "metadata": {},
     "output_type": "execute_result"
    }
   ],
   "source": [
    "# Pontuação TFIDF\n",
    "# contagem em matriz esparsa\n",
    "matrizv=vetorizador.transform(frases)\n",
    "# computando a pontuacao do tf-idf (tf*idf)\n",
    "tf_idf_vetor=tfidft.transform(matrizv)\n",
    "# visualização dos valores tf-idf \n",
    "vtokens = vetorizador.get_feature_names_out() \n",
    "#pega o tfidf vetor para o primeiro doc(primeira frase)\n",
    "primeiro_doc=tf_idf_vetor[0] \n",
    "# pontuação em ordem decrescente \n",
    "df = pd.DataFrame(first_document_vector.T.todense(), index=vtokens, columns=[\"tf-idf\"]) \n",
    "df.sort_values(by=[\"tf-idf\"],ascending=False)"
   ]
  }
 ],
 "metadata": {
  "kernelspec": {
   "display_name": "Python 3 (ipykernel)",
   "language": "python",
   "name": "python3"
  },
  "language_info": {
   "codemirror_mode": {
    "name": "ipython",
    "version": 3
   },
   "file_extension": ".py",
   "mimetype": "text/x-python",
   "name": "python",
   "nbconvert_exporter": "python",
   "pygments_lexer": "ipython3",
   "version": "3.8.10"
  }
 },
 "nbformat": 4,
 "nbformat_minor": 5
}
